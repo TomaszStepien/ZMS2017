{
 "cells": [
  {
   "cell_type": "markdown",
   "metadata": {},
   "source": [
    "# Zadania z programowania w Pythonie - seria 2"
   ]
  },
  {
   "cell_type": "markdown",
   "metadata": {},
   "source": [
    "Poniżej umieszczone jest kilka zadań programistycznych. Nie są one obowiązkowe - służą oswojeniu się z językiem Python i pozwalają na przećwiczenie wiedzy prezentowanej na zajęciach. Wysłanie ich poprawnie rozwiązanych w ustalonym przez prowadzącego terminie będzie traktowane jako dodatkowa aktywność i odpowiedniednio ocenione.\n",
    "\n",
    "Zadania można wysyłać w 2 formatach. Albo jako <b>pojedynczy</b> skrypt Pythona (format .py) z komentarzami określającymi numer rozwiązywanego zadania, albo jako uzupełniony notatnik z poleceniami (format .ipynb). Można to zrobić albo poprzez odpowiedni link na [platformie moodle](http://moodle.szufel.pl/) albo drogą mailową na adres [bpankratz@o2.pl](mailto: bpankratz@o2.pl)\n",
    "\n"
   ]
  },
  {
   "cell_type": "markdown",
   "metadata": {},
   "source": [
    "## Zad. 1\n",
    "Napisz generator, który będzie generował kolejne wyrazy ciągu Fibonacciego."
   ]
  },
  {
   "cell_type": "code",
   "execution_count": null,
   "metadata": {
    "collapsed": false
   },
   "outputs": [],
   "source": []
  },
  {
   "cell_type": "markdown",
   "metadata": {},
   "source": [
    "## Zad. 2\n",
    "\n",
    "Do prostego modelu z poprzednich zajęć (z 1 maszyną i 1 zestawem naprawczym) dodaj dział obsługi, który przetwarza zgłoszenia o zepsuciu się maszyny i wysyła je do działu naprawczego. Czas przetworzenia każdego złoszenia jest losowany z rozkładu wykładniczego z średnią równą 5.\n"
   ]
  },
  {
   "cell_type": "code",
   "execution_count": null,
   "metadata": {
    "collapsed": false
   },
   "outputs": [],
   "source": []
  },
  {
   "cell_type": "markdown",
   "metadata": {
    "collapsed": true
   },
   "source": [
    "## Zad. 3\n",
    "W oparciu o klasę bazową `Figura` zaproponuj implementację klasy `Prostokąt` reprezentującej dowolny prostokąt i klasy `Kwadrat` dziedziczącej po klasie `Prostokąt` i reprezentującej dowolny kwadrat.\n",
    "```python\n",
    "class Figura:\n",
    "    def __init__(self):\n",
    "        raise NotImplementedError()\n",
    "    def powierzchnia(self):\n",
    "        '''oblicza pole powierzchni figury'''\n",
    "        raise NotImplementedError(\"powierzchnia() must be implemented\")\n",
    "    def obwod(self):\n",
    "        '''oblicza obwód figury'''\n",
    "        raise NotImplementedError(\"obwod() must be implemented\")\n",
    "```\n",
    "\n",
    "Dodatkowo: Proszę rozwiać ten sam problem dla `Elipsy` i `Koła` (Uwaga: obwód elipsy nie jest trywialnym problemem)."
   ]
  },
  {
   "cell_type": "code",
   "execution_count": null,
   "metadata": {
    "collapsed": true
   },
   "outputs": [],
   "source": []
  },
  {
   "cell_type": "markdown",
   "metadata": {},
   "source": [
    "## Zad. 4\n",
    "Dla zadanego zbioru danych (populacja 5000 największych miast w USA) napisz kod, który zliczy pierwsze znaczące (różne od 0) cyfry rekordów z tego zbioru i przedstawi wynik na wykresie."
   ]
  },
  {
   "cell_type": "code",
   "execution_count": null,
   "metadata": {
    "collapsed": false
   },
   "outputs": [],
   "source": []
  },
  {
   "cell_type": "markdown",
   "metadata": {},
   "source": [
    "## Zad. 5\n",
    "Dla wyliczonych w poprzednim zadaniu wartości sprawdź czy otrzymany rozkład pokrywa się z [rozkładem Benforda](https://en.wikipedia.org/wiki/Benford%27s_law)."
   ]
  },
  {
   "cell_type": "code",
   "execution_count": null,
   "metadata": {
    "collapsed": false
   },
   "outputs": [],
   "source": []
  }
 ],
 "metadata": {
  "anaconda-cloud": {},
  "kernelspec": {
   "display_name": "Python [conda root]",
   "language": "python",
   "name": "conda-root-py"
  },
  "language_info": {
   "codemirror_mode": {
    "name": "ipython",
    "version": 3
   },
   "file_extension": ".py",
   "mimetype": "text/x-python",
   "name": "python",
   "nbconvert_exporter": "python",
   "pygments_lexer": "ipython3",
   "version": "3.5.2"
  }
 },
 "nbformat": 4,
 "nbformat_minor": 1
}
